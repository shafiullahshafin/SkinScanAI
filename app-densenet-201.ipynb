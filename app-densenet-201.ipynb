{
 "cells": [
  {
   "cell_type": "markdown",
   "id": "5ed78b91",
   "metadata": {
    "papermill": {
     "duration": 0.006152,
     "end_time": "2025-05-14T01:57:38.583485",
     "exception": false,
     "start_time": "2025-05-14T01:57:38.577333",
     "status": "completed"
    },
    "tags": []
   },
   "source": [
    "# Libraries"
   ]
  },
  {
   "cell_type": "code",
   "execution_count": 1,
   "id": "7b042f91",
   "metadata": {
    "execution": {
     "iopub.execute_input": "2025-05-14T01:57:38.594572Z",
     "iopub.status.busy": "2025-05-14T01:57:38.594073Z",
     "iopub.status.idle": "2025-05-14T01:57:56.268865Z",
     "shell.execute_reply": "2025-05-14T01:57:56.268032Z"
    },
    "id": "Aa36bMKLze3z",
    "papermill": {
     "duration": 17.681787,
     "end_time": "2025-05-14T01:57:56.270428",
     "exception": false,
     "start_time": "2025-05-14T01:57:38.588641",
     "status": "completed"
    },
    "tags": []
   },
   "outputs": [
    {
     "name": "stderr",
     "output_type": "stream",
     "text": [
      "2025-05-14 01:57:42.891232: E external/local_xla/xla/stream_executor/cuda/cuda_fft.cc:477] Unable to register cuFFT factory: Attempting to register factory for plugin cuFFT when one has already been registered\n",
      "WARNING: All log messages before absl::InitializeLog() is called are written to STDERR\n",
      "E0000 00:00:1747187863.135290      19 cuda_dnn.cc:8310] Unable to register cuDNN factory: Attempting to register factory for plugin cuDNN when one has already been registered\n",
      "E0000 00:00:1747187863.207822      19 cuda_blas.cc:1418] Unable to register cuBLAS factory: Attempting to register factory for plugin cuBLAS when one has already been registered\n"
     ]
    }
   ],
   "source": [
    "import os, cv2\n",
    "import pandas as pd\n",
    "import numpy as np\n",
    "import tensorflow as tf\n",
    "from glob import glob\n",
    "import keras.layers as kl\n",
    "from PIL import ImageFile\n",
    "from keras import backend as K\n",
    "from keras.layers import Layer, InputSpec\n",
    "from keras.preprocessing import image\n",
    "from tensorflow.keras import callbacks\n",
    "from matplotlib import pyplot as plt\n",
    "from tensorflow.keras.models import Sequential, Model\n",
    "from sklearn.model_selection import train_test_split\n",
    "from tensorflow.keras.applications.mobilenet import MobileNet\n",
    "from tensorflow.python.platform import build_info as tf_build_info\n",
    "from tensorflow.keras.callbacks import ModelCheckpoint, EarlyStopping\n",
    "from sklearn.metrics import roc_curve, auc, roc_auc_score, precision_score, recall_score\n",
    "from sklearn.metrics import accuracy_score, classification_report, confusion_matrix\n",
    "from tensorflow.keras.layers import concatenate, Dense, Conv2D, MaxPooling2D, Flatten, Input\n",
    "from tensorflow.keras.layers import Activation, add, AveragePooling2D, BatchNormalization\n",
    "from tensorflow.keras.layers import Dropout, Reshape, GlobalAveragePooling2D, GlobalMaxPooling2D\n",
    "from tensorflow.keras.preprocessing.image import ImageDataGenerator\n",
    "\n",
    "%matplotlib inline\n",
    "ImageFile.LOAD_TRUNCATED_IMAGES = True"
   ]
  },
  {
   "cell_type": "code",
   "execution_count": 2,
   "id": "216b9c52",
   "metadata": {
    "execution": {
     "iopub.execute_input": "2025-05-14T01:57:56.282004Z",
     "iopub.status.busy": "2025-05-14T01:57:56.281594Z",
     "iopub.status.idle": "2025-05-14T01:57:56.286023Z",
     "shell.execute_reply": "2025-05-14T01:57:56.285362Z"
    },
    "id": "PsoqCvNsgmHP",
    "papermill": {
     "duration": 0.01121,
     "end_time": "2025-05-14T01:57:56.287121",
     "exception": false,
     "start_time": "2025-05-14T01:57:56.275911",
     "status": "completed"
    },
    "tags": []
   },
   "outputs": [
    {
     "name": "stdout",
     "output_type": "stream",
     "text": [
      "7\n"
     ]
    }
   ],
   "source": [
    "targetnames = ['AKIEC', 'BCC', 'BKL', 'DF', 'MEL', 'NV', 'VASC']\n",
    "num_classes = len(targetnames)\n",
    "batch_size = 16\n",
    "image_size = 224\n",
    "print(num_classes)"
   ]
  },
  {
   "cell_type": "code",
   "execution_count": 3,
   "id": "1766a301",
   "metadata": {
    "execution": {
     "iopub.execute_input": "2025-05-14T01:57:56.297968Z",
     "iopub.status.busy": "2025-05-14T01:57:56.297754Z",
     "iopub.status.idle": "2025-05-14T01:57:56.301019Z",
     "shell.execute_reply": "2025-05-14T01:57:56.300490Z"
    },
    "id": "wNisha_gM3_Z",
    "papermill": {
     "duration": 0.009835,
     "end_time": "2025-05-14T01:57:56.302023",
     "exception": false,
     "start_time": "2025-05-14T01:57:56.292188",
     "status": "completed"
    },
    "tags": []
   },
   "outputs": [],
   "source": [
    "train_path = '/kaggle/input/augmentation-task-ham10000/HAM10K/Prior_Augmention/train_dir'\n",
    "test_path = '/kaggle/input/augmentation-task-ham10000/HAM10K/Prior_Augmention/test_dir'\n",
    "val_path = '/kaggle/input/augmentation-task-ham10000/HAM10K/Prior_Augmention/val_dir'"
   ]
  },
  {
   "cell_type": "markdown",
   "id": "b3c299b8",
   "metadata": {
    "papermill": {
     "duration": 0.005367,
     "end_time": "2025-05-14T01:57:56.312411",
     "exception": false,
     "start_time": "2025-05-14T01:57:56.307044",
     "status": "completed"
    },
    "tags": []
   },
   "source": [
    "# Dataset generation (Train, Test, Validation)"
   ]
  },
  {
   "cell_type": "code",
   "execution_count": 4,
   "id": "fb6e3315",
   "metadata": {
    "execution": {
     "iopub.execute_input": "2025-05-14T01:57:56.323071Z",
     "iopub.status.busy": "2025-05-14T01:57:56.322849Z",
     "iopub.status.idle": "2025-05-14T01:57:56.326048Z",
     "shell.execute_reply": "2025-05-14T01:57:56.325522Z"
    },
    "id": "zhQWqdRN79B3",
    "papermill": {
     "duration": 0.009623,
     "end_time": "2025-05-14T01:57:56.327009",
     "exception": false,
     "start_time": "2025-05-14T01:57:56.317386",
     "status": "completed"
    },
    "tags": []
   },
   "outputs": [],
   "source": [
    "datagen = ImageDataGenerator(preprocessing_function=tf.keras.applications.densenet.preprocess_input)"
   ]
  },
  {
   "cell_type": "code",
   "execution_count": 5,
   "id": "6e1e5b33",
   "metadata": {
    "execution": {
     "iopub.execute_input": "2025-05-14T01:57:56.339414Z",
     "iopub.status.busy": "2025-05-14T01:57:56.339189Z",
     "iopub.status.idle": "2025-05-14T01:58:09.593793Z",
     "shell.execute_reply": "2025-05-14T01:58:09.592988Z"
    },
    "id": "w9_8FvOO7Rtu",
    "outputId": "7ca88c24-fda8-45d6-cb32-f3a43ae6ba5b",
    "papermill": {
     "duration": 13.26162,
     "end_time": "2025-05-14T01:58:09.595021",
     "exception": false,
     "start_time": "2025-05-14T01:57:56.333401",
     "status": "completed"
    },
    "tags": []
   },
   "outputs": [
    {
     "name": "stdout",
     "output_type": "stream",
     "text": [
      "\n",
      "Train Batches: \n",
      "Found 43979 images belonging to 7 classes.\n",
      "\n",
      "Test Batches: \n",
      "Found 5500 images belonging to 7 classes.\n",
      "\n",
      "Val Batches: \n",
      "Found 5498 images belonging to 7 classes.\n"
     ]
    }
   ],
   "source": [
    "print(\"\\nTrain Batches: \")\n",
    "train_batches = datagen.flow_from_directory(directory=train_path,\n",
    "                                            target_size=(image_size,image_size),\n",
    "                                            batch_size=batch_size,\n",
    "                                            shuffle=True)\n",
    "print(\"\\nTest Batches: \")\n",
    "test_batches = datagen.flow_from_directory(test_path,\n",
    "                                          target_size=(image_size,image_size),\n",
    "                                          batch_size=batch_size,\n",
    "                                          shuffle=False)\n",
    "print(\"\\nVal Batches: \")\n",
    "val_batches = datagen.flow_from_directory(val_path,\n",
    "                                         target_size=(image_size,image_size),\n",
    "                                         batch_size=batch_size,\n",
    "                                         shuffle=False)"
   ]
  },
  {
   "cell_type": "markdown",
   "id": "87ece01c",
   "metadata": {
    "papermill": {
     "duration": 0.005168,
     "end_time": "2025-05-14T01:58:09.606164",
     "exception": false,
     "start_time": "2025-05-14T01:58:09.600996",
     "status": "completed"
    },
    "tags": []
   },
   "source": [
    "### Define Model"
   ]
  },
  {
   "cell_type": "code",
   "execution_count": 6,
   "id": "9209fa5e",
   "metadata": {
    "execution": {
     "iopub.execute_input": "2025-05-14T01:58:09.617851Z",
     "iopub.status.busy": "2025-05-14T01:58:09.617423Z",
     "iopub.status.idle": "2025-05-14T01:58:18.702457Z",
     "shell.execute_reply": "2025-05-14T01:58:18.701882Z"
    },
    "id": "zhQWqdRN79B3",
    "papermill": {
     "duration": 9.092307,
     "end_time": "2025-05-14T01:58:18.703813",
     "exception": false,
     "start_time": "2025-05-14T01:58:09.611506",
     "status": "completed"
    },
    "tags": []
   },
   "outputs": [
    {
     "name": "stderr",
     "output_type": "stream",
     "text": [
      "I0000 00:00:1747187890.952588      19 gpu_device.cc:2022] Created device /job:localhost/replica:0/task:0/device:GPU:0 with 15513 MB memory:  -> device: 0, name: Tesla P100-PCIE-16GB, pci bus id: 0000:00:04.0, compute capability: 6.0\n"
     ]
    },
    {
     "name": "stdout",
     "output_type": "stream",
     "text": [
      "Downloading data from https://storage.googleapis.com/tensorflow/keras-applications/densenet/densenet201_weights_tf_dim_ordering_tf_kernels_notop.h5\n",
      "\u001b[1m74836368/74836368\u001b[0m \u001b[32m━━━━━━━━━━━━━━━━━━━━\u001b[0m\u001b[37m\u001b[0m \u001b[1m2s\u001b[0m 0us/step\n"
     ]
    }
   ],
   "source": [
    "from tensorflow.keras.applications.densenet import DenseNet201\n",
    "# Create a new instance of DenseNet201\n",
    "DN201 = DenseNet201(weights='imagenet', include_top=False, input_shape=(image_size, image_size, 3), pooling='avg')"
   ]
  },
  {
   "cell_type": "markdown",
   "id": "b57c0c04",
   "metadata": {
    "papermill": {
     "duration": 0.006882,
     "end_time": "2025-05-14T01:58:18.718322",
     "exception": false,
     "start_time": "2025-05-14T01:58:18.711440",
     "status": "completed"
    },
    "tags": []
   },
   "source": [
    "## Fine tuning"
   ]
  },
  {
   "cell_type": "code",
   "execution_count": 7,
   "id": "912305b9",
   "metadata": {
    "execution": {
     "iopub.execute_input": "2025-05-14T01:58:18.733398Z",
     "iopub.status.busy": "2025-05-14T01:58:18.732804Z",
     "iopub.status.idle": "2025-05-14T01:58:18.736995Z",
     "shell.execute_reply": "2025-05-14T01:58:18.736472Z"
    },
    "id": "4d4Ta5LcSYaz",
    "papermill": {
     "duration": 0.012658,
     "end_time": "2025-05-14T01:58:18.737935",
     "exception": false,
     "start_time": "2025-05-14T01:58:18.725277",
     "status": "completed"
    },
    "tags": []
   },
   "outputs": [],
   "source": [
    "MainInput=Input(shape=(image_size, image_size, 3))"
   ]
  },
  {
   "cell_type": "code",
   "execution_count": 8,
   "id": "92fe3537",
   "metadata": {
    "execution": {
     "iopub.execute_input": "2025-05-14T01:58:18.752977Z",
     "iopub.status.busy": "2025-05-14T01:58:18.752785Z",
     "iopub.status.idle": "2025-05-14T01:58:18.758700Z",
     "shell.execute_reply": "2025-05-14T01:58:18.758182Z"
    },
    "papermill": {
     "duration": 0.014594,
     "end_time": "2025-05-14T01:58:18.759674",
     "exception": false,
     "start_time": "2025-05-14T01:58:18.745080",
     "status": "completed"
    },
    "tags": []
   },
   "outputs": [],
   "source": [
    "densenet = DN201(MainInput)"
   ]
  },
  {
   "cell_type": "code",
   "execution_count": 9,
   "id": "eb58ac02",
   "metadata": {
    "execution": {
     "iopub.execute_input": "2025-05-14T01:58:18.775336Z",
     "iopub.status.busy": "2025-05-14T01:58:18.775104Z",
     "iopub.status.idle": "2025-05-14T01:58:18.779468Z",
     "shell.execute_reply": "2025-05-14T01:58:18.778778Z"
    },
    "papermill": {
     "duration": 0.013666,
     "end_time": "2025-05-14T01:58:18.780674",
     "exception": false,
     "start_time": "2025-05-14T01:58:18.767008",
     "status": "completed"
    },
    "tags": []
   },
   "outputs": [],
   "source": [
    "# Reshape the tensor to have 4 dimensions\n",
    "from tensorflow.keras.layers import Reshape\n",
    "reshape = Reshape((8, 8, 30))(densenet)"
   ]
  },
  {
   "cell_type": "code",
   "execution_count": 10,
   "id": "169081c3",
   "metadata": {
    "execution": {
     "iopub.execute_input": "2025-05-14T01:58:18.795771Z",
     "iopub.status.busy": "2025-05-14T01:58:18.795537Z",
     "iopub.status.idle": "2025-05-14T01:58:18.857080Z",
     "shell.execute_reply": "2025-05-14T01:58:18.856381Z"
    },
    "id": "x8mS99J5SYbT",
    "papermill": {
     "duration": 0.070551,
     "end_time": "2025-05-14T01:58:18.858391",
     "exception": false,
     "start_time": "2025-05-14T01:58:18.787840",
     "status": "completed"
    },
    "tags": []
   },
   "outputs": [],
   "source": [
    "conv = Conv2D(filters=256,kernel_size=(7,7), activation=\"relu\",padding=\"same\",kernel_initializer='he_normal')(reshape)\n",
    "conv = BatchNormalization()(conv)\n",
    "conv = Conv2D(filters=256,kernel_size=(5,5), activation=\"relu\",padding=\"same\",kernel_initializer='he_normal')(conv)\n",
    "conv = BatchNormalization()(conv)\n",
    "conv = Conv2D(filters=256,kernel_size=(3,3), activation=\"relu\",padding=\"same\",kernel_initializer='he_normal')(conv)\n",
    "conv = BatchNormalization()(conv)\n",
    "conv = Conv2D(filters=256,kernel_size=(1,1), activation=\"relu\",padding=\"same\",kernel_initializer='he_normal')(conv)\n",
    "conv = BatchNormalization()(conv)"
   ]
  },
  {
   "cell_type": "code",
   "execution_count": 11,
   "id": "1387d84b",
   "metadata": {
    "execution": {
     "iopub.execute_input": "2025-05-14T01:58:18.874081Z",
     "iopub.status.busy": "2025-05-14T01:58:18.873677Z",
     "iopub.status.idle": "2025-05-14T01:58:18.916300Z",
     "shell.execute_reply": "2025-05-14T01:58:18.915781Z"
    },
    "id": "-EdFxKdgSYcf",
    "papermill": {
     "duration": 0.051406,
     "end_time": "2025-05-14T01:58:18.917285",
     "exception": false,
     "start_time": "2025-05-14T01:58:18.865879",
     "status": "completed"
    },
    "tags": []
   },
   "outputs": [],
   "source": [
    "conv = (Flatten()(conv))\n",
    "conv = (Dense(1024,activation=\"relu\")(conv))\n",
    "conv = Dropout(0.35)(conv)\n",
    "conv = (Dense(512,activation=\"relu\")(conv))\n",
    "conv = Dropout(0.25)(conv)\n",
    "conv = (Dense(num_classes, activation=\"softmax\")(conv))\n",
    "\n",
    "model_dn201 = Model(inputs=MainInput, outputs=conv)"
   ]
  },
  {
   "cell_type": "code",
   "execution_count": 12,
   "id": "9550fe2e",
   "metadata": {
    "execution": {
     "iopub.execute_input": "2025-05-14T01:58:18.932840Z",
     "iopub.status.busy": "2025-05-14T01:58:18.932643Z",
     "iopub.status.idle": "2025-05-14T01:58:18.965805Z",
     "shell.execute_reply": "2025-05-14T01:58:18.965187Z"
    },
    "id": "ba8ajOckSYcl",
    "outputId": "e69fa749-4741-4f49-ae3e-9f5479e809a8",
    "papermill": {
     "duration": 0.041853,
     "end_time": "2025-05-14T01:58:18.966782",
     "exception": false,
     "start_time": "2025-05-14T01:58:18.924929",
     "status": "completed"
    },
    "tags": []
   },
   "outputs": [
    {
     "data": {
      "text/html": [
       "<pre style=\"white-space:pre;overflow-x:auto;line-height:normal;font-family:Menlo,'DejaVu Sans Mono',consolas,'Courier New',monospace\"><span style=\"font-weight: bold\">Model: \"functional\"</span>\n",
       "</pre>\n"
      ],
      "text/plain": [
       "\u001b[1mModel: \"functional\"\u001b[0m\n"
      ]
     },
     "metadata": {},
     "output_type": "display_data"
    },
    {
     "data": {
      "text/html": [
       "<pre style=\"white-space:pre;overflow-x:auto;line-height:normal;font-family:Menlo,'DejaVu Sans Mono',consolas,'Courier New',monospace\">┏━━━━━━━━━━━━━━━━━━━━━━━━━━━━━━━━━━━━━━┳━━━━━━━━━━━━━━━━━━━━━━━━━━━━━┳━━━━━━━━━━━━━━━━━┓\n",
       "┃<span style=\"font-weight: bold\"> Layer (type)                         </span>┃<span style=\"font-weight: bold\"> Output Shape                </span>┃<span style=\"font-weight: bold\">         Param # </span>┃\n",
       "┡━━━━━━━━━━━━━━━━━━━━━━━━━━━━━━━━━━━━━━╇━━━━━━━━━━━━━━━━━━━━━━━━━━━━━╇━━━━━━━━━━━━━━━━━┩\n",
       "│ input_layer_1 (<span style=\"color: #0087ff; text-decoration-color: #0087ff\">InputLayer</span>)           │ (<span style=\"color: #00d7ff; text-decoration-color: #00d7ff\">None</span>, <span style=\"color: #00af00; text-decoration-color: #00af00\">224</span>, <span style=\"color: #00af00; text-decoration-color: #00af00\">224</span>, <span style=\"color: #00af00; text-decoration-color: #00af00\">3</span>)         │               <span style=\"color: #00af00; text-decoration-color: #00af00\">0</span> │\n",
       "├──────────────────────────────────────┼─────────────────────────────┼─────────────────┤\n",
       "│ densenet201 (<span style=\"color: #0087ff; text-decoration-color: #0087ff\">Functional</span>)             │ (<span style=\"color: #00d7ff; text-decoration-color: #00d7ff\">None</span>, <span style=\"color: #00af00; text-decoration-color: #00af00\">1920</span>)                │      <span style=\"color: #00af00; text-decoration-color: #00af00\">18,321,984</span> │\n",
       "├──────────────────────────────────────┼─────────────────────────────┼─────────────────┤\n",
       "│ reshape (<span style=\"color: #0087ff; text-decoration-color: #0087ff\">Reshape</span>)                    │ (<span style=\"color: #00d7ff; text-decoration-color: #00d7ff\">None</span>, <span style=\"color: #00af00; text-decoration-color: #00af00\">8</span>, <span style=\"color: #00af00; text-decoration-color: #00af00\">8</span>, <span style=\"color: #00af00; text-decoration-color: #00af00\">30</span>)            │               <span style=\"color: #00af00; text-decoration-color: #00af00\">0</span> │\n",
       "├──────────────────────────────────────┼─────────────────────────────┼─────────────────┤\n",
       "│ conv2d (<span style=\"color: #0087ff; text-decoration-color: #0087ff\">Conv2D</span>)                      │ (<span style=\"color: #00d7ff; text-decoration-color: #00d7ff\">None</span>, <span style=\"color: #00af00; text-decoration-color: #00af00\">8</span>, <span style=\"color: #00af00; text-decoration-color: #00af00\">8</span>, <span style=\"color: #00af00; text-decoration-color: #00af00\">256</span>)           │         <span style=\"color: #00af00; text-decoration-color: #00af00\">376,576</span> │\n",
       "├──────────────────────────────────────┼─────────────────────────────┼─────────────────┤\n",
       "│ batch_normalization                  │ (<span style=\"color: #00d7ff; text-decoration-color: #00d7ff\">None</span>, <span style=\"color: #00af00; text-decoration-color: #00af00\">8</span>, <span style=\"color: #00af00; text-decoration-color: #00af00\">8</span>, <span style=\"color: #00af00; text-decoration-color: #00af00\">256</span>)           │           <span style=\"color: #00af00; text-decoration-color: #00af00\">1,024</span> │\n",
       "│ (<span style=\"color: #0087ff; text-decoration-color: #0087ff\">BatchNormalization</span>)                 │                             │                 │\n",
       "├──────────────────────────────────────┼─────────────────────────────┼─────────────────┤\n",
       "│ conv2d_1 (<span style=\"color: #0087ff; text-decoration-color: #0087ff\">Conv2D</span>)                    │ (<span style=\"color: #00d7ff; text-decoration-color: #00d7ff\">None</span>, <span style=\"color: #00af00; text-decoration-color: #00af00\">8</span>, <span style=\"color: #00af00; text-decoration-color: #00af00\">8</span>, <span style=\"color: #00af00; text-decoration-color: #00af00\">256</span>)           │       <span style=\"color: #00af00; text-decoration-color: #00af00\">1,638,656</span> │\n",
       "├──────────────────────────────────────┼─────────────────────────────┼─────────────────┤\n",
       "│ batch_normalization_1                │ (<span style=\"color: #00d7ff; text-decoration-color: #00d7ff\">None</span>, <span style=\"color: #00af00; text-decoration-color: #00af00\">8</span>, <span style=\"color: #00af00; text-decoration-color: #00af00\">8</span>, <span style=\"color: #00af00; text-decoration-color: #00af00\">256</span>)           │           <span style=\"color: #00af00; text-decoration-color: #00af00\">1,024</span> │\n",
       "│ (<span style=\"color: #0087ff; text-decoration-color: #0087ff\">BatchNormalization</span>)                 │                             │                 │\n",
       "├──────────────────────────────────────┼─────────────────────────────┼─────────────────┤\n",
       "│ conv2d_2 (<span style=\"color: #0087ff; text-decoration-color: #0087ff\">Conv2D</span>)                    │ (<span style=\"color: #00d7ff; text-decoration-color: #00d7ff\">None</span>, <span style=\"color: #00af00; text-decoration-color: #00af00\">8</span>, <span style=\"color: #00af00; text-decoration-color: #00af00\">8</span>, <span style=\"color: #00af00; text-decoration-color: #00af00\">256</span>)           │         <span style=\"color: #00af00; text-decoration-color: #00af00\">590,080</span> │\n",
       "├──────────────────────────────────────┼─────────────────────────────┼─────────────────┤\n",
       "│ batch_normalization_2                │ (<span style=\"color: #00d7ff; text-decoration-color: #00d7ff\">None</span>, <span style=\"color: #00af00; text-decoration-color: #00af00\">8</span>, <span style=\"color: #00af00; text-decoration-color: #00af00\">8</span>, <span style=\"color: #00af00; text-decoration-color: #00af00\">256</span>)           │           <span style=\"color: #00af00; text-decoration-color: #00af00\">1,024</span> │\n",
       "│ (<span style=\"color: #0087ff; text-decoration-color: #0087ff\">BatchNormalization</span>)                 │                             │                 │\n",
       "├──────────────────────────────────────┼─────────────────────────────┼─────────────────┤\n",
       "│ conv2d_3 (<span style=\"color: #0087ff; text-decoration-color: #0087ff\">Conv2D</span>)                    │ (<span style=\"color: #00d7ff; text-decoration-color: #00d7ff\">None</span>, <span style=\"color: #00af00; text-decoration-color: #00af00\">8</span>, <span style=\"color: #00af00; text-decoration-color: #00af00\">8</span>, <span style=\"color: #00af00; text-decoration-color: #00af00\">256</span>)           │          <span style=\"color: #00af00; text-decoration-color: #00af00\">65,792</span> │\n",
       "├──────────────────────────────────────┼─────────────────────────────┼─────────────────┤\n",
       "│ batch_normalization_3                │ (<span style=\"color: #00d7ff; text-decoration-color: #00d7ff\">None</span>, <span style=\"color: #00af00; text-decoration-color: #00af00\">8</span>, <span style=\"color: #00af00; text-decoration-color: #00af00\">8</span>, <span style=\"color: #00af00; text-decoration-color: #00af00\">256</span>)           │           <span style=\"color: #00af00; text-decoration-color: #00af00\">1,024</span> │\n",
       "│ (<span style=\"color: #0087ff; text-decoration-color: #0087ff\">BatchNormalization</span>)                 │                             │                 │\n",
       "├──────────────────────────────────────┼─────────────────────────────┼─────────────────┤\n",
       "│ flatten (<span style=\"color: #0087ff; text-decoration-color: #0087ff\">Flatten</span>)                    │ (<span style=\"color: #00d7ff; text-decoration-color: #00d7ff\">None</span>, <span style=\"color: #00af00; text-decoration-color: #00af00\">16384</span>)               │               <span style=\"color: #00af00; text-decoration-color: #00af00\">0</span> │\n",
       "├──────────────────────────────────────┼─────────────────────────────┼─────────────────┤\n",
       "│ dense (<span style=\"color: #0087ff; text-decoration-color: #0087ff\">Dense</span>)                        │ (<span style=\"color: #00d7ff; text-decoration-color: #00d7ff\">None</span>, <span style=\"color: #00af00; text-decoration-color: #00af00\">1024</span>)                │      <span style=\"color: #00af00; text-decoration-color: #00af00\">16,778,240</span> │\n",
       "├──────────────────────────────────────┼─────────────────────────────┼─────────────────┤\n",
       "│ dropout (<span style=\"color: #0087ff; text-decoration-color: #0087ff\">Dropout</span>)                    │ (<span style=\"color: #00d7ff; text-decoration-color: #00d7ff\">None</span>, <span style=\"color: #00af00; text-decoration-color: #00af00\">1024</span>)                │               <span style=\"color: #00af00; text-decoration-color: #00af00\">0</span> │\n",
       "├──────────────────────────────────────┼─────────────────────────────┼─────────────────┤\n",
       "│ dense_1 (<span style=\"color: #0087ff; text-decoration-color: #0087ff\">Dense</span>)                      │ (<span style=\"color: #00d7ff; text-decoration-color: #00d7ff\">None</span>, <span style=\"color: #00af00; text-decoration-color: #00af00\">512</span>)                 │         <span style=\"color: #00af00; text-decoration-color: #00af00\">524,800</span> │\n",
       "├──────────────────────────────────────┼─────────────────────────────┼─────────────────┤\n",
       "│ dropout_1 (<span style=\"color: #0087ff; text-decoration-color: #0087ff\">Dropout</span>)                  │ (<span style=\"color: #00d7ff; text-decoration-color: #00d7ff\">None</span>, <span style=\"color: #00af00; text-decoration-color: #00af00\">512</span>)                 │               <span style=\"color: #00af00; text-decoration-color: #00af00\">0</span> │\n",
       "├──────────────────────────────────────┼─────────────────────────────┼─────────────────┤\n",
       "│ dense_2 (<span style=\"color: #0087ff; text-decoration-color: #0087ff\">Dense</span>)                      │ (<span style=\"color: #00d7ff; text-decoration-color: #00d7ff\">None</span>, <span style=\"color: #00af00; text-decoration-color: #00af00\">7</span>)                   │           <span style=\"color: #00af00; text-decoration-color: #00af00\">3,591</span> │\n",
       "└──────────────────────────────────────┴─────────────────────────────┴─────────────────┘\n",
       "</pre>\n"
      ],
      "text/plain": [
       "┏━━━━━━━━━━━━━━━━━━━━━━━━━━━━━━━━━━━━━━┳━━━━━━━━━━━━━━━━━━━━━━━━━━━━━┳━━━━━━━━━━━━━━━━━┓\n",
       "┃\u001b[1m \u001b[0m\u001b[1mLayer (type)                        \u001b[0m\u001b[1m \u001b[0m┃\u001b[1m \u001b[0m\u001b[1mOutput Shape               \u001b[0m\u001b[1m \u001b[0m┃\u001b[1m \u001b[0m\u001b[1m        Param #\u001b[0m\u001b[1m \u001b[0m┃\n",
       "┡━━━━━━━━━━━━━━━━━━━━━━━━━━━━━━━━━━━━━━╇━━━━━━━━━━━━━━━━━━━━━━━━━━━━━╇━━━━━━━━━━━━━━━━━┩\n",
       "│ input_layer_1 (\u001b[38;5;33mInputLayer\u001b[0m)           │ (\u001b[38;5;45mNone\u001b[0m, \u001b[38;5;34m224\u001b[0m, \u001b[38;5;34m224\u001b[0m, \u001b[38;5;34m3\u001b[0m)         │               \u001b[38;5;34m0\u001b[0m │\n",
       "├──────────────────────────────────────┼─────────────────────────────┼─────────────────┤\n",
       "│ densenet201 (\u001b[38;5;33mFunctional\u001b[0m)             │ (\u001b[38;5;45mNone\u001b[0m, \u001b[38;5;34m1920\u001b[0m)                │      \u001b[38;5;34m18,321,984\u001b[0m │\n",
       "├──────────────────────────────────────┼─────────────────────────────┼─────────────────┤\n",
       "│ reshape (\u001b[38;5;33mReshape\u001b[0m)                    │ (\u001b[38;5;45mNone\u001b[0m, \u001b[38;5;34m8\u001b[0m, \u001b[38;5;34m8\u001b[0m, \u001b[38;5;34m30\u001b[0m)            │               \u001b[38;5;34m0\u001b[0m │\n",
       "├──────────────────────────────────────┼─────────────────────────────┼─────────────────┤\n",
       "│ conv2d (\u001b[38;5;33mConv2D\u001b[0m)                      │ (\u001b[38;5;45mNone\u001b[0m, \u001b[38;5;34m8\u001b[0m, \u001b[38;5;34m8\u001b[0m, \u001b[38;5;34m256\u001b[0m)           │         \u001b[38;5;34m376,576\u001b[0m │\n",
       "├──────────────────────────────────────┼─────────────────────────────┼─────────────────┤\n",
       "│ batch_normalization                  │ (\u001b[38;5;45mNone\u001b[0m, \u001b[38;5;34m8\u001b[0m, \u001b[38;5;34m8\u001b[0m, \u001b[38;5;34m256\u001b[0m)           │           \u001b[38;5;34m1,024\u001b[0m │\n",
       "│ (\u001b[38;5;33mBatchNormalization\u001b[0m)                 │                             │                 │\n",
       "├──────────────────────────────────────┼─────────────────────────────┼─────────────────┤\n",
       "│ conv2d_1 (\u001b[38;5;33mConv2D\u001b[0m)                    │ (\u001b[38;5;45mNone\u001b[0m, \u001b[38;5;34m8\u001b[0m, \u001b[38;5;34m8\u001b[0m, \u001b[38;5;34m256\u001b[0m)           │       \u001b[38;5;34m1,638,656\u001b[0m │\n",
       "├──────────────────────────────────────┼─────────────────────────────┼─────────────────┤\n",
       "│ batch_normalization_1                │ (\u001b[38;5;45mNone\u001b[0m, \u001b[38;5;34m8\u001b[0m, \u001b[38;5;34m8\u001b[0m, \u001b[38;5;34m256\u001b[0m)           │           \u001b[38;5;34m1,024\u001b[0m │\n",
       "│ (\u001b[38;5;33mBatchNormalization\u001b[0m)                 │                             │                 │\n",
       "├──────────────────────────────────────┼─────────────────────────────┼─────────────────┤\n",
       "│ conv2d_2 (\u001b[38;5;33mConv2D\u001b[0m)                    │ (\u001b[38;5;45mNone\u001b[0m, \u001b[38;5;34m8\u001b[0m, \u001b[38;5;34m8\u001b[0m, \u001b[38;5;34m256\u001b[0m)           │         \u001b[38;5;34m590,080\u001b[0m │\n",
       "├──────────────────────────────────────┼─────────────────────────────┼─────────────────┤\n",
       "│ batch_normalization_2                │ (\u001b[38;5;45mNone\u001b[0m, \u001b[38;5;34m8\u001b[0m, \u001b[38;5;34m8\u001b[0m, \u001b[38;5;34m256\u001b[0m)           │           \u001b[38;5;34m1,024\u001b[0m │\n",
       "│ (\u001b[38;5;33mBatchNormalization\u001b[0m)                 │                             │                 │\n",
       "├──────────────────────────────────────┼─────────────────────────────┼─────────────────┤\n",
       "│ conv2d_3 (\u001b[38;5;33mConv2D\u001b[0m)                    │ (\u001b[38;5;45mNone\u001b[0m, \u001b[38;5;34m8\u001b[0m, \u001b[38;5;34m8\u001b[0m, \u001b[38;5;34m256\u001b[0m)           │          \u001b[38;5;34m65,792\u001b[0m │\n",
       "├──────────────────────────────────────┼─────────────────────────────┼─────────────────┤\n",
       "│ batch_normalization_3                │ (\u001b[38;5;45mNone\u001b[0m, \u001b[38;5;34m8\u001b[0m, \u001b[38;5;34m8\u001b[0m, \u001b[38;5;34m256\u001b[0m)           │           \u001b[38;5;34m1,024\u001b[0m │\n",
       "│ (\u001b[38;5;33mBatchNormalization\u001b[0m)                 │                             │                 │\n",
       "├──────────────────────────────────────┼─────────────────────────────┼─────────────────┤\n",
       "│ flatten (\u001b[38;5;33mFlatten\u001b[0m)                    │ (\u001b[38;5;45mNone\u001b[0m, \u001b[38;5;34m16384\u001b[0m)               │               \u001b[38;5;34m0\u001b[0m │\n",
       "├──────────────────────────────────────┼─────────────────────────────┼─────────────────┤\n",
       "│ dense (\u001b[38;5;33mDense\u001b[0m)                        │ (\u001b[38;5;45mNone\u001b[0m, \u001b[38;5;34m1024\u001b[0m)                │      \u001b[38;5;34m16,778,240\u001b[0m │\n",
       "├──────────────────────────────────────┼─────────────────────────────┼─────────────────┤\n",
       "│ dropout (\u001b[38;5;33mDropout\u001b[0m)                    │ (\u001b[38;5;45mNone\u001b[0m, \u001b[38;5;34m1024\u001b[0m)                │               \u001b[38;5;34m0\u001b[0m │\n",
       "├──────────────────────────────────────┼─────────────────────────────┼─────────────────┤\n",
       "│ dense_1 (\u001b[38;5;33mDense\u001b[0m)                      │ (\u001b[38;5;45mNone\u001b[0m, \u001b[38;5;34m512\u001b[0m)                 │         \u001b[38;5;34m524,800\u001b[0m │\n",
       "├──────────────────────────────────────┼─────────────────────────────┼─────────────────┤\n",
       "│ dropout_1 (\u001b[38;5;33mDropout\u001b[0m)                  │ (\u001b[38;5;45mNone\u001b[0m, \u001b[38;5;34m512\u001b[0m)                 │               \u001b[38;5;34m0\u001b[0m │\n",
       "├──────────────────────────────────────┼─────────────────────────────┼─────────────────┤\n",
       "│ dense_2 (\u001b[38;5;33mDense\u001b[0m)                      │ (\u001b[38;5;45mNone\u001b[0m, \u001b[38;5;34m7\u001b[0m)                   │           \u001b[38;5;34m3,591\u001b[0m │\n",
       "└──────────────────────────────────────┴─────────────────────────────┴─────────────────┘\n"
      ]
     },
     "metadata": {},
     "output_type": "display_data"
    },
    {
     "data": {
      "text/html": [
       "<pre style=\"white-space:pre;overflow-x:auto;line-height:normal;font-family:Menlo,'DejaVu Sans Mono',consolas,'Courier New',monospace\"><span style=\"font-weight: bold\"> Total params: </span><span style=\"color: #00af00; text-decoration-color: #00af00\">38,303,815</span> (146.12 MB)\n",
       "</pre>\n"
      ],
      "text/plain": [
       "\u001b[1m Total params: \u001b[0m\u001b[38;5;34m38,303,815\u001b[0m (146.12 MB)\n"
      ]
     },
     "metadata": {},
     "output_type": "display_data"
    },
    {
     "data": {
      "text/html": [
       "<pre style=\"white-space:pre;overflow-x:auto;line-height:normal;font-family:Menlo,'DejaVu Sans Mono',consolas,'Courier New',monospace\"><span style=\"font-weight: bold\"> Trainable params: </span><span style=\"color: #00af00; text-decoration-color: #00af00\">38,072,711</span> (145.24 MB)\n",
       "</pre>\n"
      ],
      "text/plain": [
       "\u001b[1m Trainable params: \u001b[0m\u001b[38;5;34m38,072,711\u001b[0m (145.24 MB)\n"
      ]
     },
     "metadata": {},
     "output_type": "display_data"
    },
    {
     "data": {
      "text/html": [
       "<pre style=\"white-space:pre;overflow-x:auto;line-height:normal;font-family:Menlo,'DejaVu Sans Mono',consolas,'Courier New',monospace\"><span style=\"font-weight: bold\"> Non-trainable params: </span><span style=\"color: #00af00; text-decoration-color: #00af00\">231,104</span> (902.75 KB)\n",
       "</pre>\n"
      ],
      "text/plain": [
       "\u001b[1m Non-trainable params: \u001b[0m\u001b[38;5;34m231,104\u001b[0m (902.75 KB)\n"
      ]
     },
     "metadata": {},
     "output_type": "display_data"
    }
   ],
   "source": [
    "model_dn201.summary()"
   ]
  },
  {
   "cell_type": "code",
   "execution_count": 13,
   "id": "9096aaae",
   "metadata": {
    "execution": {
     "iopub.execute_input": "2025-05-14T01:58:18.983671Z",
     "iopub.status.busy": "2025-05-14T01:58:18.983241Z",
     "iopub.status.idle": "2025-05-14T01:58:18.996283Z",
     "shell.execute_reply": "2025-05-14T01:58:18.995594Z"
    },
    "id": "WR0fUpy18vAZ",
    "papermill": {
     "duration": 0.022483,
     "end_time": "2025-05-14T01:58:18.997355",
     "exception": false,
     "start_time": "2025-05-14T01:58:18.974872",
     "status": "completed"
    },
    "tags": []
   },
   "outputs": [],
   "source": [
    "opt1=tf.keras.optimizers.Adam(learning_rate=0.001,epsilon=0.1)\n",
    "model_dn201.compile(optimizer=opt1,\n",
    "             loss='categorical_crossentropy',\n",
    "             metrics=['accuracy'])"
   ]
  },
  {
   "cell_type": "code",
   "execution_count": 14,
   "id": "3230f4ac",
   "metadata": {
    "execution": {
     "iopub.execute_input": "2025-05-14T01:58:19.013803Z",
     "iopub.status.busy": "2025-05-14T01:58:19.013626Z",
     "iopub.status.idle": "2025-05-14T01:58:19.016745Z",
     "shell.execute_reply": "2025-05-14T01:58:19.016274Z"
    },
    "id": "LAf5ha295reS",
    "papermill": {
     "duration": 0.012336,
     "end_time": "2025-05-14T01:58:19.017763",
     "exception": false,
     "start_time": "2025-05-14T01:58:19.005427",
     "status": "completed"
    },
    "tags": []
   },
   "outputs": [],
   "source": [
    "class_weights = {   \n",
    "                    0: 1.0,  \n",
    "                    1: 1.0,  \n",
    "                    2: 1.0,  \n",
    "                    3: 1.0,  \n",
    "                    4: 1.0,  \n",
    "                    5: 1.0,\n",
    "                    6: 1.0\n",
    "                }"
   ]
  },
  {
   "cell_type": "code",
   "execution_count": 15,
   "id": "b10218d4",
   "metadata": {
    "execution": {
     "iopub.execute_input": "2025-05-14T01:58:19.080299Z",
     "iopub.status.busy": "2025-05-14T01:58:19.079659Z",
     "iopub.status.idle": "2025-05-14T01:58:19.083743Z",
     "shell.execute_reply": "2025-05-14T01:58:19.083020Z"
    },
    "papermill": {
     "duration": 0.058977,
     "end_time": "2025-05-14T01:58:19.084891",
     "exception": false,
     "start_time": "2025-05-14T01:58:19.025914",
     "status": "completed"
    },
    "tags": []
   },
   "outputs": [],
   "source": [
    "checkpoint = ModelCheckpoint(filepath ='DN201.weights.h5', monitor='val_accuracy', save_best_only=True, save_weights_only=True)\n",
    "Earlystop = EarlyStopping(monitor='val_accuracy', mode='max', patience=15, min_delta=0.01)"
   ]
  },
  {
   "cell_type": "code",
   "execution_count": 16,
   "id": "a97c834f",
   "metadata": {
    "execution": {
     "iopub.execute_input": "2025-05-14T01:58:19.102041Z",
     "iopub.status.busy": "2025-05-14T01:58:19.101488Z",
     "iopub.status.idle": "2025-05-14T06:13:51.235329Z",
     "shell.execute_reply": "2025-05-14T06:13:51.234560Z"
    },
    "id": "NUzTmiZ-8hL3",
    "outputId": "e1825ff2-9f9c-436f-cf2c-9776af8eee62",
    "papermill": {
     "duration": 15332.151986,
     "end_time": "2025-05-14T06:13:51.244821",
     "exception": false,
     "start_time": "2025-05-14T01:58:19.092835",
     "status": "completed"
    },
    "tags": []
   },
   "outputs": [
    {
     "name": "stderr",
     "output_type": "stream",
     "text": [
      "/usr/local/lib/python3.11/dist-packages/keras/src/trainers/data_adapters/py_dataset_adapter.py:121: UserWarning: Your `PyDataset` class should call `super().__init__(**kwargs)` in its constructor. `**kwargs` can include `workers`, `use_multiprocessing`, `max_queue_size`. Do not pass these arguments to `fit()`, as they will be ignored.\n",
      "  self._warn_if_super_not_called()\n"
     ]
    },
    {
     "name": "stdout",
     "output_type": "stream",
     "text": [
      "Epoch 1/80\n"
     ]
    },
    {
     "name": "stderr",
     "output_type": "stream",
     "text": [
      "WARNING: All log messages before absl::InitializeLog() is called are written to STDERR\n",
      "I0000 00:00:1747188050.014505      78 service.cc:148] XLA service 0x7a62f4001a20 initialized for platform CUDA (this does not guarantee that XLA will be used). Devices:\n",
      "I0000 00:00:1747188050.015707      78 service.cc:156]   StreamExecutor device (0): Tesla P100-PCIE-16GB, Compute Capability 6.0\n",
      "I0000 00:00:1747188064.631648      78 cuda_dnn.cc:529] Loaded cuDNN version 90300\n",
      "I0000 00:00:1747188297.564506      78 device_compiler.h:188] Compiled cluster using XLA!  This line is logged at most once for the lifetime of the process.\n"
     ]
    },
    {
     "name": "stdout",
     "output_type": "stream",
     "text": [
      "2749/2749 - 1180s - 429ms/step - accuracy: 0.7230 - loss: 0.7720 - val_accuracy: 0.8605 - val_loss: 0.3747\n",
      "Epoch 2/80\n",
      "2749/2749 - 486s - 177ms/step - accuracy: 0.8744 - loss: 0.3529 - val_accuracy: 0.8627 - val_loss: 0.3779\n",
      "Epoch 3/80\n",
      "2749/2749 - 488s - 177ms/step - accuracy: 0.9172 - loss: 0.2303 - val_accuracy: 0.9182 - val_loss: 0.2148\n",
      "Epoch 4/80\n",
      "2749/2749 - 489s - 178ms/step - accuracy: 0.9441 - loss: 0.1586 - val_accuracy: 0.9482 - val_loss: 0.1510\n",
      "Epoch 5/80\n",
      "2749/2749 - 482s - 175ms/step - accuracy: 0.9599 - loss: 0.1116 - val_accuracy: 0.9345 - val_loss: 0.1734\n",
      "Epoch 6/80\n",
      "2749/2749 - 488s - 177ms/step - accuracy: 0.9687 - loss: 0.0886 - val_accuracy: 0.9318 - val_loss: 0.2079\n",
      "Epoch 7/80\n",
      "2749/2749 - 494s - 180ms/step - accuracy: 0.9741 - loss: 0.0749 - val_accuracy: 0.9520 - val_loss: 0.1269\n",
      "Epoch 8/80\n",
      "2749/2749 - 494s - 180ms/step - accuracy: 0.9805 - loss: 0.0554 - val_accuracy: 0.9658 - val_loss: 0.0937\n",
      "Epoch 9/80\n",
      "2749/2749 - 490s - 178ms/step - accuracy: 0.9824 - loss: 0.0533 - val_accuracy: 0.9474 - val_loss: 0.1727\n",
      "Epoch 10/80\n",
      "2749/2749 - 490s - 178ms/step - accuracy: 0.9839 - loss: 0.0462 - val_accuracy: 0.9560 - val_loss: 0.1325\n",
      "Epoch 11/80\n",
      "2749/2749 - 489s - 178ms/step - accuracy: 0.9880 - loss: 0.0342 - val_accuracy: 0.9645 - val_loss: 0.1137\n",
      "Epoch 12/80\n",
      "2749/2749 - 489s - 178ms/step - accuracy: 0.9894 - loss: 0.0319 - val_accuracy: 0.9649 - val_loss: 0.1143\n",
      "Epoch 13/80\n",
      "2749/2749 - 492s - 179ms/step - accuracy: 0.9897 - loss: 0.0313 - val_accuracy: 0.9676 - val_loss: 0.1010\n",
      "Epoch 14/80\n",
      "2749/2749 - 486s - 177ms/step - accuracy: 0.9926 - loss: 0.0218 - val_accuracy: 0.9636 - val_loss: 0.1240\n",
      "Epoch 15/80\n",
      "2749/2749 - 492s - 179ms/step - accuracy: 0.9917 - loss: 0.0253 - val_accuracy: 0.9814 - val_loss: 0.0642\n",
      "Epoch 16/80\n",
      "2749/2749 - 490s - 178ms/step - accuracy: 0.9928 - loss: 0.0232 - val_accuracy: 0.9758 - val_loss: 0.0803\n",
      "Epoch 17/80\n",
      "2749/2749 - 489s - 178ms/step - accuracy: 0.9927 - loss: 0.0217 - val_accuracy: 0.9796 - val_loss: 0.0737\n",
      "Epoch 18/80\n",
      "2749/2749 - 486s - 177ms/step - accuracy: 0.9947 - loss: 0.0166 - val_accuracy: 0.9705 - val_loss: 0.1116\n",
      "Epoch 19/80\n",
      "2749/2749 - 485s - 177ms/step - accuracy: 0.9956 - loss: 0.0146 - val_accuracy: 0.9791 - val_loss: 0.0719\n",
      "Epoch 20/80\n",
      "2749/2749 - 485s - 176ms/step - accuracy: 0.9950 - loss: 0.0148 - val_accuracy: 0.9794 - val_loss: 0.0842\n",
      "Epoch 21/80\n",
      "2749/2749 - 485s - 176ms/step - accuracy: 0.9960 - loss: 0.0122 - val_accuracy: 0.9762 - val_loss: 0.0865\n",
      "Epoch 22/80\n",
      "2749/2749 - 486s - 177ms/step - accuracy: 0.9940 - loss: 0.0179 - val_accuracy: 0.9785 - val_loss: 0.0692\n",
      "Epoch 23/80\n",
      "2749/2749 - 486s - 177ms/step - accuracy: 0.9965 - loss: 0.0105 - val_accuracy: 0.9673 - val_loss: 0.1310\n",
      "Epoch 24/80\n",
      "2749/2749 - 486s - 177ms/step - accuracy: 0.9967 - loss: 0.0097 - val_accuracy: 0.9705 - val_loss: 0.1107\n",
      "Epoch 25/80\n",
      "2749/2749 - 491s - 179ms/step - accuracy: 0.9959 - loss: 0.0136 - val_accuracy: 0.9820 - val_loss: 0.0620\n",
      "Epoch 26/80\n",
      "2749/2749 - 488s - 178ms/step - accuracy: 0.9956 - loss: 0.0132 - val_accuracy: 0.9789 - val_loss: 0.0673\n",
      "Epoch 27/80\n",
      "2749/2749 - 487s - 177ms/step - accuracy: 0.9958 - loss: 0.0130 - val_accuracy: 0.9807 - val_loss: 0.0710\n",
      "Epoch 28/80\n",
      "2749/2749 - 489s - 178ms/step - accuracy: 0.9969 - loss: 0.0099 - val_accuracy: 0.9849 - val_loss: 0.0565\n",
      "Epoch 29/80\n",
      "2749/2749 - 486s - 177ms/step - accuracy: 0.9972 - loss: 0.0098 - val_accuracy: 0.9842 - val_loss: 0.0551\n",
      "Epoch 30/80\n",
      "2749/2749 - 486s - 177ms/step - accuracy: 0.9974 - loss: 0.0079 - val_accuracy: 0.9785 - val_loss: 0.0831\n"
     ]
    }
   ],
   "source": [
    "history = model_dn201.fit(train_batches,\n",
    "                         epochs=80,\n",
    "                         verbose=2,\n",
    "                         validation_data=val_batches,\n",
    "                         callbacks=[checkpoint, Earlystop],\n",
    "                         class_weight=class_weights) "
   ]
  },
  {
   "cell_type": "code",
   "execution_count": 17,
   "id": "206b78ab",
   "metadata": {
    "execution": {
     "iopub.execute_input": "2025-05-14T06:13:51.266703Z",
     "iopub.status.busy": "2025-05-14T06:13:51.266067Z",
     "iopub.status.idle": "2025-05-14T06:13:53.699965Z",
     "shell.execute_reply": "2025-05-14T06:13:53.699161Z"
    },
    "papermill": {
     "duration": 2.446169,
     "end_time": "2025-05-14T06:13:53.701386",
     "exception": false,
     "start_time": "2025-05-14T06:13:51.255217",
     "status": "completed"
    },
    "tags": []
   },
   "outputs": [],
   "source": [
    "model_dn201.save('DN_Model.h5')"
   ]
  },
  {
   "cell_type": "markdown",
   "id": "1bbd8072",
   "metadata": {
    "papermill": {
     "duration": 0.010166,
     "end_time": "2025-05-14T06:13:53.722741",
     "exception": false,
     "start_time": "2025-05-14T06:13:53.712575",
     "status": "completed"
    },
    "tags": []
   },
   "source": [
    "### Plotting accuracy and loss"
   ]
  },
  {
   "cell_type": "code",
   "execution_count": 18,
   "id": "b7ef89fe",
   "metadata": {
    "execution": {
     "iopub.execute_input": "2025-05-14T06:13:53.744157Z",
     "iopub.status.busy": "2025-05-14T06:13:53.743899Z",
     "iopub.status.idle": "2025-05-14T06:13:54.145060Z",
     "shell.execute_reply": "2025-05-14T06:13:54.144367Z"
    },
    "papermill": {
     "duration": 0.413375,
     "end_time": "2025-05-14T06:13:54.146350",
     "exception": false,
     "start_time": "2025-05-14T06:13:53.732975",
     "status": "completed"
    },
    "tags": []
   },
   "outputs": [
    {
     "name": "stdout",
     "output_type": "stream",
     "text": [
      "Number of epochs trained: 30\n"
     ]
    },
    {
     "data": {
      "image/png": "[encoded data removed]",
      "text/plain": [
       "<Figure size 1500x500 with 2 Axes>"
      ]
     },
     "metadata": {},
     "output_type": "display_data"
    }
   ],
   "source": [
    "# Determine number of epochs trained\n",
    "num_epochs_trained = len(history.history['val_loss'])\n",
    "print(f\"Number of epochs trained: {num_epochs_trained}\")\n",
    "\n",
    "## History plotting\n",
    "epochs = [i for i in range(num_epochs_trained)]\n",
    "fig , ax = plt.subplots(1,2)\n",
    "train_acc = history.history['accuracy']\n",
    "train_loss = history.history['loss']\n",
    "val_acc = history.history['val_accuracy']\n",
    "val_loss = history.history['val_loss']\n",
    "fig.set_size_inches(15,5)\n",
    "\n",
    "ax[0].plot(epochs , train_acc , 'go-' , label = 'Training Accuracy')\n",
    "ax[0].plot(epochs , val_acc , 'ro-' , label = 'Validation Accuracy')\n",
    "title_font = {'fontname':'Times New Roman', 'size':'14', 'color':'black', 'weight':'normal'}\n",
    "ax[0].set_title('Model Accuracy', fontdict=title_font)\n",
    "legend_font = {'family': 'Times New Roman', 'size': '12', 'weight': 'normal'}\n",
    "ax[0].legend(prop=legend_font)\n",
    "label_font = {'fontname':'Times New Roman', 'size':'12', 'color':'black', 'weight':'normal'}\n",
    "ax[0].set_xlabel(\"Epochs\",  fontdict=label_font)\n",
    "ax[0].set_ylabel(\"Accuracy\",  fontdict=label_font)\n",
    "\n",
    "ax[1].plot(epochs , train_loss , 'g-o' , label = 'Training Loss')\n",
    "ax[1].plot(epochs , val_loss , 'r-o' , label = 'Validation Loss')\n",
    "ax[1].set_title('Model Loss', fontdict=title_font)\n",
    "ax[1].legend(prop=legend_font)\n",
    "ax[1].set_xlabel(\"Epochs\", fontdict=label_font)\n",
    "ax[1].set_ylabel(\"Loss\", fontdict=label_font)\n",
    "plt.show()"
   ]
  },
  {
   "cell_type": "code",
   "execution_count": 19,
   "id": "988c5c11",
   "metadata": {
    "execution": {
     "iopub.execute_input": "2025-05-14T06:13:54.170922Z",
     "iopub.status.busy": "2025-05-14T06:13:54.170341Z",
     "iopub.status.idle": "2025-05-14T06:13:56.795318Z",
     "shell.execute_reply": "2025-05-14T06:13:56.794509Z"
    },
    "id": "zm_AewFBXTj8",
    "papermill": {
     "duration": 2.638326,
     "end_time": "2025-05-14T06:13:56.796740",
     "exception": false,
     "start_time": "2025-05-14T06:13:54.158414",
     "status": "completed"
    },
    "tags": []
   },
   "outputs": [],
   "source": [
    "from tensorflow.keras import models\n",
    "model_dn201.load_weights(\"DN201.weights.h5\")"
   ]
  },
  {
   "cell_type": "code",
   "execution_count": 20,
   "id": "9b4d7d27",
   "metadata": {
    "execution": {
     "iopub.execute_input": "2025-05-14T06:13:56.823558Z",
     "iopub.status.busy": "2025-05-14T06:13:56.823321Z",
     "iopub.status.idle": "2025-05-14T06:15:31.578772Z",
     "shell.execute_reply": "2025-05-14T06:15:31.578182Z"
    },
    "papermill": {
     "duration": 94.770657,
     "end_time": "2025-05-14T06:15:31.580136",
     "exception": false,
     "start_time": "2025-05-14T06:13:56.809479",
     "status": "completed"
    },
    "tags": []
   },
   "outputs": [
    {
     "name": "stdout",
     "output_type": "stream",
     "text": [
      "\u001b[1m344/344\u001b[0m \u001b[32m━━━━━━━━━━━━━━━━━━━━\u001b[0m\u001b[37m\u001b[0m \u001b[1m94s\u001b[0m 211ms/step\n"
     ]
    }
   ],
   "source": [
    "predictions = model_dn201.predict(test_batches)"
   ]
  },
  {
   "cell_type": "code",
   "execution_count": 21,
   "id": "1ea5842e",
   "metadata": {
    "execution": {
     "iopub.execute_input": "2025-05-14T06:15:31.630158Z",
     "iopub.status.busy": "2025-05-14T06:15:31.629913Z",
     "iopub.status.idle": "2025-05-14T06:15:31.633443Z",
     "shell.execute_reply": "2025-05-14T06:15:31.632899Z"
    },
    "id": "FDTMtBeTdBfU",
    "papermill": {
     "duration": 0.02942,
     "end_time": "2025-05-14T06:15:31.634450",
     "exception": false,
     "start_time": "2025-05-14T06:15:31.605030",
     "status": "completed"
    },
    "tags": []
   },
   "outputs": [],
   "source": [
    "#geting predictions on test dataset\n",
    "y_pred = np.argmax(predictions, axis=1)\n",
    "#getting the true labels per image \n",
    "y_true = test_batches.classes\n",
    "#getting the predicted labels per image \n",
    "y_prob = predictions"
   ]
  },
  {
   "cell_type": "code",
   "execution_count": 22,
   "id": "1e4f88bc",
   "metadata": {
    "execution": {
     "iopub.execute_input": "2025-05-14T06:15:31.683399Z",
     "iopub.status.busy": "2025-05-14T06:15:31.683198Z",
     "iopub.status.idle": "2025-05-14T06:15:31.700003Z",
     "shell.execute_reply": "2025-05-14T06:15:31.699397Z"
    },
    "papermill": {
     "duration": 0.042507,
     "end_time": "2025-05-14T06:15:31.701035",
     "exception": false,
     "start_time": "2025-05-14T06:15:31.658528",
     "status": "completed"
    },
    "tags": []
   },
   "outputs": [
    {
     "name": "stdout",
     "output_type": "stream",
     "text": [
      "\n",
      "Classification Report:\n",
      "              precision    recall  f1-score   support\n",
      "\n",
      "       AKIEC       0.99      1.00      1.00       800\n",
      "         BCC       0.99      1.00      1.00       789\n",
      "         BKL       0.98      0.99      0.98       797\n",
      "          DF       1.00      1.00      1.00       781\n",
      "         MEL       0.97      0.97      0.97       796\n",
      "          NV       0.97      0.94      0.96       801\n",
      "        VASC       1.00      1.00      1.00       736\n",
      "\n",
      "    accuracy                           0.99      5500\n",
      "   macro avg       0.99      0.99      0.99      5500\n",
      "weighted avg       0.99      0.99      0.99      5500\n",
      "\n"
     ]
    }
   ],
   "source": [
    "classnames = ['AKIEC', 'BCC', 'BKL', 'DF', 'MEL', 'NV', 'VASC']\n",
    "\n",
    "from tensorflow.keras.utils import to_categorical\n",
    "y_test = to_categorical(y_true)\n",
    "\n",
    "report = classification_report(y_true, y_pred, target_names=classnames)\n",
    "\n",
    "print(\"\\nClassification Report:\")\n",
    "print(report)"
   ]
  },
  {
   "cell_type": "code",
   "execution_count": 23,
   "id": "4673b614",
   "metadata": {
    "execution": {
     "iopub.execute_input": "2025-05-14T06:15:31.750741Z",
     "iopub.status.busy": "2025-05-14T06:15:31.750543Z",
     "iopub.status.idle": "2025-05-14T06:15:32.471327Z",
     "shell.execute_reply": "2025-05-14T06:15:32.470593Z"
    },
    "papermill": {
     "duration": 0.747125,
     "end_time": "2025-05-14T06:15:32.472538",
     "exception": false,
     "start_time": "2025-05-14T06:15:31.725413",
     "status": "completed"
    },
    "tags": []
   },
   "outputs": [
    {
     "data": {
      "image/png": "[encoded data removed]",
      "text/plain": [
       "<Figure size 1000x400 with 2 Axes>"
      ]
     },
     "metadata": {},
     "output_type": "display_data"
    }
   ],
   "source": [
    "## Confusion Matrix\n",
    "title_font = {'fontname':'Times New Roman', 'size':'14', 'color':'black', 'weight':'normal'}\n",
    "label_font = {'fontname':'Times New Roman', 'size':'12', 'color':'black', 'weight':'normal'}\n",
    "\n",
    "from sklearn.metrics import confusion_matrix\n",
    "import seaborn as sns\n",
    "# Creating confusion matrix \n",
    "cm = confusion_matrix(y_true, y_pred)\n",
    "# Plotting the confusion matrix\n",
    "plt.figure(figsize=(10,4))\n",
    "sns.heatmap(cm, annot=True, fmt='g', cmap='Blues', xticklabels=targetnames, yticklabels=targetnames)\n",
    "plt.xlabel('Predicted Label', fontdict=label_font)\n",
    "plt.ylabel('True Label', fontdict=label_font)\n",
    "plt.title('Confusion Matrix', fontdict=title_font)\n",
    "plt.show()"
   ]
  },
  {
   "cell_type": "markdown",
   "id": "942ac992",
   "metadata": {
    "papermill": {
     "duration": 0.026053,
     "end_time": "2025-05-14T06:15:32.524448",
     "exception": false,
     "start_time": "2025-05-14T06:15:32.498395",
     "status": "completed"
    },
    "tags": []
   },
   "source": [
    "## Results"
   ]
  },
  {
   "cell_type": "markdown",
   "id": "c773e081",
   "metadata": {
    "papermill": {
     "duration": 0.025303,
     "end_time": "2025-05-14T06:15:32.574755",
     "exception": false,
     "start_time": "2025-05-14T06:15:32.549452",
     "status": "completed"
    },
    "tags": []
   },
   "source": [
    "### Individual Class Accuracy "
   ]
  },
  {
   "cell_type": "code",
   "execution_count": 24,
   "id": "0a435c32",
   "metadata": {
    "execution": {
     "iopub.execute_input": "2025-05-14T06:15:32.626214Z",
     "iopub.status.busy": "2025-05-14T06:15:32.625923Z",
     "iopub.status.idle": "2025-05-14T06:15:32.632314Z",
     "shell.execute_reply": "2025-05-14T06:15:32.631532Z"
    },
    "papermill": {
     "duration": 0.03363,
     "end_time": "2025-05-14T06:15:32.633457",
     "exception": false,
     "start_time": "2025-05-14T06:15:32.599827",
     "status": "completed"
    },
    "tags": []
   },
   "outputs": [
    {
     "name": "stdout",
     "output_type": "stream",
     "text": [
      "Overall accuracy: 98.55%\n",
      "Accuracy for each class:\n",
      "Class 0: 99.88%\n",
      "Class 1: 100.00%\n",
      "Class 2: 98.75%\n",
      "Class 3: 100.00%\n",
      "Class 4: 97.11%\n",
      "Class 5: 94.26%\n",
      "Class 6: 100.00%\n"
     ]
    }
   ],
   "source": [
    "# y_true are the true labels of the test set\n",
    "# y_pred are the predicted labels of the test set\n",
    "accuracy = accuracy_score(y_true, y_pred)\n",
    "# Calculate accuracy for each class\n",
    "class_accuracy = cm.diagonal()/cm.sum(axis=1)\n",
    "print(\"Overall accuracy: {:.2f}%\".format(accuracy*100))\n",
    "print(\"Accuracy for each class:\")\n",
    "for i, acc in enumerate(class_accuracy):\n",
    "    print(\"Class {}: {:.2f}%\".format(i, acc*100))"
   ]
  },
  {
   "cell_type": "markdown",
   "id": "e7d90886",
   "metadata": {
    "papermill": {
     "duration": 0.025757,
     "end_time": "2025-05-14T06:15:32.684495",
     "exception": false,
     "start_time": "2025-05-14T06:15:32.658738",
     "status": "completed"
    },
    "tags": []
   },
   "source": [
    "### Individual Class Weighted Precision"
   ]
  },
  {
   "cell_type": "code",
   "execution_count": 25,
   "id": "4c0ff147",
   "metadata": {
    "execution": {
     "iopub.execute_input": "2025-05-14T06:15:32.738657Z",
     "iopub.status.busy": "2025-05-14T06:15:32.738390Z",
     "iopub.status.idle": "2025-05-14T06:15:32.750085Z",
     "shell.execute_reply": "2025-05-14T06:15:32.749436Z"
    },
    "papermill": {
     "duration": 0.039955,
     "end_time": "2025-05-14T06:15:32.751172",
     "exception": false,
     "start_time": "2025-05-14T06:15:32.711217",
     "status": "completed"
    },
    "tags": []
   },
   "outputs": [
    {
     "name": "stdout",
     "output_type": "stream",
     "text": [
      "Weighted precision for each class:\n",
      "Class 0: 99.38%\n",
      "Class 1: 99.50%\n",
      "Class 2: 97.76%\n",
      "Class 3: 99.87%\n",
      "Class 4: 96.50%\n",
      "Class 5: 97.04%\n",
      "Class 6: 99.86%\n",
      "Weighted precision: 98.54%\n"
     ]
    }
   ],
   "source": [
    "report = classification_report(y_true, y_pred, output_dict=True)\n",
    "# Extract weighted precision for each class\n",
    "class_precision = {}\n",
    "for class_label in report.keys():\n",
    "    if class_label == 'weighted avg':\n",
    "        class_precision['weighted'] = report[class_label]['precision']\n",
    "    elif class_label.isdigit():\n",
    "        class_precision[int(class_label)] = report[class_label]['precision']\n",
    "print(\"Weighted precision for each class:\")\n",
    "for i, precision in class_precision.items():\n",
    "    if i == 'weighted':\n",
    "        print(\"Weighted precision: {:.2f}%\".format(precision*100))\n",
    "    else:\n",
    "        print(\"Class {}: {:.2f}%\".format(i, precision*100))"
   ]
  },
  {
   "cell_type": "markdown",
   "id": "ec6856ea",
   "metadata": {
    "papermill": {
     "duration": 0.024818,
     "end_time": "2025-05-14T06:15:32.801265",
     "exception": false,
     "start_time": "2025-05-14T06:15:32.776447",
     "status": "completed"
    },
    "tags": []
   },
   "source": [
    "### Individual Class Weighted Recall"
   ]
  },
  {
   "cell_type": "code",
   "execution_count": 26,
   "id": "b0679a41",
   "metadata": {
    "execution": {
     "iopub.execute_input": "2025-05-14T06:15:32.852729Z",
     "iopub.status.busy": "2025-05-14T06:15:32.852183Z",
     "iopub.status.idle": "2025-05-14T06:15:32.863034Z",
     "shell.execute_reply": "2025-05-14T06:15:32.862301Z"
    },
    "papermill": {
     "duration": 0.03751,
     "end_time": "2025-05-14T06:15:32.864099",
     "exception": false,
     "start_time": "2025-05-14T06:15:32.826589",
     "status": "completed"
    },
    "tags": []
   },
   "outputs": [
    {
     "name": "stdout",
     "output_type": "stream",
     "text": [
      "Weighted recall for each class:\n",
      "Class 0: 99.88%\n",
      "Class 1: 100.00%\n",
      "Class 2: 98.75%\n",
      "Class 3: 100.00%\n",
      "Class 4: 97.11%\n",
      "Class 5: 94.26%\n",
      "Class 6: 100.00%\n",
      "Weighted Recall: 98.55%\n"
     ]
    }
   ],
   "source": [
    "report = classification_report(y_true, y_pred, output_dict=True)\n",
    "# Extract weighted recall for each class\n",
    "class_recall = {}\n",
    "for class_label in report.keys():\n",
    "    if class_label == 'weighted avg':\n",
    "        class_recall['weighted'] = report[class_label]['recall']\n",
    "    elif class_label.isdigit():\n",
    "        class_recall[int(class_label)] = report[class_label]['recall']\n",
    "print(\"Weighted recall for each class:\")\n",
    "for i, recall in class_recall.items():\n",
    "    if i == 'weighted':\n",
    "        print(\"Weighted Recall: {:.2f}%\".format(recall*100))\n",
    "    else:\n",
    "        print(\"Class {}: {:.2f}%\".format(i, recall*100))"
   ]
  },
  {
   "cell_type": "markdown",
   "id": "b27d672f",
   "metadata": {
    "papermill": {
     "duration": 0.024945,
     "end_time": "2025-05-14T06:15:32.914361",
     "exception": false,
     "start_time": "2025-05-14T06:15:32.889416",
     "status": "completed"
    },
    "tags": []
   },
   "source": [
    "### Individual Class Weighted F1-score"
   ]
  },
  {
   "cell_type": "code",
   "execution_count": 27,
   "id": "5d851f9f",
   "metadata": {
    "execution": {
     "iopub.execute_input": "2025-05-14T06:15:32.965491Z",
     "iopub.status.busy": "2025-05-14T06:15:32.965291Z",
     "iopub.status.idle": "2025-05-14T06:15:32.976164Z",
     "shell.execute_reply": "2025-05-14T06:15:32.975510Z"
    },
    "papermill": {
     "duration": 0.037776,
     "end_time": "2025-05-14T06:15:32.977325",
     "exception": false,
     "start_time": "2025-05-14T06:15:32.939549",
     "status": "completed"
    },
    "tags": []
   },
   "outputs": [
    {
     "name": "stdout",
     "output_type": "stream",
     "text": [
      "Weighted F1-score for each class:\n",
      "Class 0: 99.63%\n",
      "Class 1: 99.75%\n",
      "Class 2: 98.25%\n",
      "Class 3: 99.94%\n",
      "Class 4: 96.81%\n",
      "Class 5: 95.63%\n",
      "Class 6: 99.93%\n",
      "Weighted F1-score: 98.54%\n"
     ]
    }
   ],
   "source": [
    "report = classification_report(y_true, y_pred, output_dict=True)\n",
    "# Extract weighted F1-score for each class\n",
    "class_f1 = {}\n",
    "for class_label in report.keys():\n",
    "    if class_label == 'weighted avg':\n",
    "        class_f1['weighted'] = report[class_label]['f1-score']\n",
    "    elif class_label.isdigit():\n",
    "        class_f1[int(class_label)] = report[class_label]['f1-score']\n",
    "print(\"Weighted F1-score for each class:\")\n",
    "for i, f1_score in class_f1.items():\n",
    "    if i == 'weighted':\n",
    "        print(\"Weighted F1-score: {:.2f}%\".format(f1_score*100))\n",
    "    else:\n",
    "        print(\"Class {}: {:.2f}%\".format(i, f1_score*100))"
   ]
  },
  {
   "cell_type": "markdown",
   "id": "37e9ea48",
   "metadata": {
    "papermill": {
     "duration": 0.025093,
     "end_time": "2025-05-14T06:15:33.027457",
     "exception": false,
     "start_time": "2025-05-14T06:15:33.002364",
     "status": "completed"
    },
    "tags": []
   },
   "source": [
    "### Individual Class Precision, Recall and F1-score"
   ]
  },
  {
   "cell_type": "code",
   "execution_count": 28,
   "id": "06018334",
   "metadata": {
    "execution": {
     "iopub.execute_input": "2025-05-14T06:15:33.078911Z",
     "iopub.status.busy": "2025-05-14T06:15:33.078711Z",
     "iopub.status.idle": "2025-05-14T06:15:33.084873Z",
     "shell.execute_reply": "2025-05-14T06:15:33.084202Z"
    },
    "papermill": {
     "duration": 0.033312,
     "end_time": "2025-05-14T06:15:33.085951",
     "exception": false,
     "start_time": "2025-05-14T06:15:33.052639",
     "status": "completed"
    },
    "tags": []
   },
   "outputs": [
    {
     "name": "stdout",
     "output_type": "stream",
     "text": [
      "Class-wise weighted precision, recall, and F1-score:\n",
      "Class 0: Precision=0.99, Recall=1.00, F1-score=1.00\n",
      "Class 1: Precision=0.99, Recall=1.00, F1-score=1.00\n",
      "Class 2: Precision=0.98, Recall=0.99, F1-score=0.98\n",
      "Class 3: Precision=1.00, Recall=1.00, F1-score=1.00\n",
      "Class 4: Precision=0.97, Recall=0.97, F1-score=0.97\n",
      "Class 5: Precision=0.97, Recall=0.94, F1-score=0.96\n",
      "Class 6: Precision=1.00, Recall=1.00, F1-score=1.00\n"
     ]
    }
   ],
   "source": [
    "from sklearn.metrics import precision_recall_fscore_support\n",
    "\n",
    "precision_class, recall_class, f1_class, support_class = precision_recall_fscore_support(y_true, y_pred, average=None)\n",
    "print('Class-wise weighted precision, recall, and F1-score:')\n",
    "for i in range(len(precision_class)):\n",
    "    print('Class {}: Precision={:.2f}, Recall={:.2f}, F1-score={:.2f}'.format(i, precision_class[i], recall_class[i], f1_class[i]))\n"
   ]
  },
  {
   "cell_type": "markdown",
   "id": "4c90d1a6",
   "metadata": {
    "papermill": {
     "duration": 0.025148,
     "end_time": "2025-05-14T06:15:33.136707",
     "exception": false,
     "start_time": "2025-05-14T06:15:33.111559",
     "status": "completed"
    },
    "tags": []
   },
   "source": [
    "### Individual Class Weighted Sensitivity"
   ]
  },
  {
   "cell_type": "code",
   "execution_count": 29,
   "id": "04d72da8",
   "metadata": {
    "execution": {
     "iopub.execute_input": "2025-05-14T06:15:33.188702Z",
     "iopub.status.busy": "2025-05-14T06:15:33.188455Z",
     "iopub.status.idle": "2025-05-14T06:15:33.197000Z",
     "shell.execute_reply": "2025-05-14T06:15:33.196359Z"
    },
    "papermill": {
     "duration": 0.035774,
     "end_time": "2025-05-14T06:15:33.197969",
     "exception": false,
     "start_time": "2025-05-14T06:15:33.162195",
     "status": "completed"
    },
    "tags": []
   },
   "outputs": [
    {
     "name": "stdout",
     "output_type": "stream",
     "text": [
      "Weighted sensitivity for each class:\n",
      "Class 0: sensitivity = 1.00\n",
      "Class 1: sensitivity = 1.00\n",
      "Class 2: sensitivity = 0.99\n",
      "Class 3: sensitivity = 1.00\n",
      "Class 4: sensitivity = 0.97\n",
      "Class 5: sensitivity = 0.94\n",
      "Class 6: sensitivity = 1.00\n",
      "Weighted Sensitivity: 0.99\n"
     ]
    }
   ],
   "source": [
    "from sklearn.metrics import recall_score\n",
    "\n",
    "# Calculate class-wise sensitivity\n",
    "sensitivity = recall_score(y_true, y_pred, average=None)\n",
    "\n",
    "print(\"Weighted sensitivity for each class:\")\n",
    "# Print sensitivity score for each class\n",
    "for i in range(len(sensitivity)):\n",
    "    print(\"Class {}: sensitivity = {:.2f}\".format(i, sensitivity[i]))\n",
    "\n",
    "# Calculate weighted sensitivity (recall)\n",
    "sensitivity = recall_score(y_true, y_pred, average='weighted')\n",
    "print(\"Weighted Sensitivity: {:.2f}\".format(sensitivity))"
   ]
  },
  {
   "cell_type": "markdown",
   "id": "af2d9d44",
   "metadata": {
    "papermill": {
     "duration": 0.025178,
     "end_time": "2025-05-14T06:15:33.248650",
     "exception": false,
     "start_time": "2025-05-14T06:15:33.223472",
     "status": "completed"
    },
    "tags": []
   },
   "source": [
    "### Individual Class Weighted Specificity"
   ]
  },
  {
   "cell_type": "code",
   "execution_count": 30,
   "id": "5b7dc9fe",
   "metadata": {
    "execution": {
     "iopub.execute_input": "2025-05-14T06:15:33.300535Z",
     "iopub.status.busy": "2025-05-14T06:15:33.300040Z",
     "iopub.status.idle": "2025-05-14T06:15:33.308160Z",
     "shell.execute_reply": "2025-05-14T06:15:33.307599Z"
    },
    "papermill": {
     "duration": 0.03519,
     "end_time": "2025-05-14T06:15:33.309200",
     "exception": false,
     "start_time": "2025-05-14T06:15:33.274010",
     "status": "completed"
    },
    "tags": []
   },
   "outputs": [
    {
     "name": "stdout",
     "output_type": "stream",
     "text": [
      "Weighted specificity for each class:\n",
      "Class 0: specificity = 1.00\n",
      "Class 1: specificity = 1.00\n",
      "Class 2: specificity = 1.00\n",
      "Class 3: specificity = 1.00\n",
      "Class 4: specificity = 0.99\n",
      "Class 5: specificity = 1.00\n",
      "Class 6: specificity = 1.00\n",
      "Weighted Specificity: 1.00\n"
     ]
    }
   ],
   "source": [
    "import numpy as np\n",
    "from sklearn.metrics import confusion_matrix\n",
    "\n",
    "# Assuming y_true and y_pred are defined from your previous code\n",
    "cm = confusion_matrix(y_true, y_pred)\n",
    "\n",
    "# Initialize lists to store specificity for each class\n",
    "specificity_per_class = []\n",
    "\n",
    "print(\"Weighted specificity for each class:\")\n",
    "# Calculate specificity for each class\n",
    "for i in range(len(cm)):\n",
    "    # True Negatives (TN): Sum of all elements except the i-th row and i-th column\n",
    "    tn = cm.sum() - (cm[i, :].sum() + cm[:, i].sum() - cm[i, i])\n",
    "    # False Positives (FP): Sum of i-th column excluding the diagonal element\n",
    "    fp = cm[:, i].sum() - cm[i, i]\n",
    "    # Specificity = TN / (TN + FP)\n",
    "    specificity = tn / (tn + fp) if (tn + fp) != 0 else 0\n",
    "    specificity_per_class.append(specificity)\n",
    "    print(f\"Class {i}: specificity = {specificity:.2f}\")\n",
    "\n",
    "# Calculate weighted specificity\n",
    "# Weight by the number of true instances for each class\n",
    "class_counts = cm.sum(axis=1)\n",
    "total_count = class_counts.sum()\n",
    "weighted_specificity = np.sum([spec * count / total_count for spec, count in zip(specificity_per_class, class_counts)])\n",
    "print(f\"Weighted Specificity: {weighted_specificity:.2f}\")"
   ]
  },
  {
   "cell_type": "markdown",
   "id": "9e1008a0",
   "metadata": {
    "papermill": {
     "duration": 0.027935,
     "end_time": "2025-05-14T06:15:33.363212",
     "exception": false,
     "start_time": "2025-05-14T06:15:33.335277",
     "status": "completed"
    },
    "tags": []
   },
   "source": [
    "### Accuracy"
   ]
  },
  {
   "cell_type": "code",
   "execution_count": 31,
   "id": "20076a40",
   "metadata": {
    "execution": {
     "iopub.execute_input": "2025-05-14T06:15:33.416741Z",
     "iopub.status.busy": "2025-05-14T06:15:33.416473Z",
     "iopub.status.idle": "2025-05-14T06:15:33.421591Z",
     "shell.execute_reply": "2025-05-14T06:15:33.421020Z"
    },
    "papermill": {
     "duration": 0.033161,
     "end_time": "2025-05-14T06:15:33.422599",
     "exception": false,
     "start_time": "2025-05-14T06:15:33.389438",
     "status": "completed"
    },
    "tags": []
   },
   "outputs": [
    {
     "name": "stdout",
     "output_type": "stream",
     "text": [
      "Accuracy: 0.9854545454545455\n"
     ]
    }
   ],
   "source": [
    "print(\"Accuracy: \" + str(accuracy_score(y_true, y_pred)))\n",
    "import numpy as np\n",
    "from sklearn.metrics import accuracy_score"
   ]
  },
  {
   "cell_type": "code",
   "execution_count": 32,
   "id": "e872bb15",
   "metadata": {
    "execution": {
     "iopub.execute_input": "2025-05-14T06:15:33.474381Z",
     "iopub.status.busy": "2025-05-14T06:15:33.474172Z",
     "iopub.status.idle": "2025-05-14T06:15:33.523440Z",
     "shell.execute_reply": "2025-05-14T06:15:33.522766Z"
    },
    "papermill": {
     "duration": 0.076534,
     "end_time": "2025-05-14T06:15:33.524584",
     "exception": false,
     "start_time": "2025-05-14T06:15:33.448050",
     "status": "completed"
    },
    "tags": []
   },
   "outputs": [
    {
     "name": "stdout",
     "output_type": "stream",
     "text": [
      "Top-1 Accuracy: 0.9854545454545455\n",
      "Top-2 Accuracy: 0.9981818181818182\n",
      "Top-3 Accuracy: 0.9998181818181818\n"
     ]
    }
   ],
   "source": [
    "# Calculate top-1 accuracy\n",
    "top1_acc = accuracy_score(y_true, y_pred)\n",
    "print(\"Top-1 Accuracy:\", top1_acc)\n",
    "\n",
    "# Calculate top-2 accuracy\n",
    "y_pred_top2 = np.argsort(-predictions, axis=1)[:, :2] # Get the top 2 predicted classes\n",
    "top2_acc = np.mean(np.array([y_true[i] in y_pred_top2[i] for i in range(len(y_true))]))\n",
    "print(\"Top-2 Accuracy:\", top2_acc)\n",
    "\n",
    "# Calculate top-3 accuracy\n",
    "y_pred_top3 = np.argsort(-predictions, axis=1)[:, :3] # Get the top 3 predicted classes\n",
    "top3_acc = np.mean(np.array([y_true[i] in y_pred_top3[i] for i in range(len(y_true))]))\n",
    "print(\"Top-3 Accuracy:\", top3_acc)\n",
    "from sklearn.metrics import f1_score"
   ]
  },
  {
   "cell_type": "markdown",
   "id": "3441318e",
   "metadata": {
    "papermill": {
     "duration": 0.02586,
     "end_time": "2025-05-14T06:15:33.576552",
     "exception": false,
     "start_time": "2025-05-14T06:15:33.550692",
     "status": "completed"
    },
    "tags": []
   },
   "source": [
    "## ROC"
   ]
  },
  {
   "cell_type": "markdown",
   "id": "23a07bea",
   "metadata": {
    "papermill": {
     "duration": 0.025944,
     "end_time": "2025-05-14T06:15:33.628508",
     "exception": false,
     "start_time": "2025-05-14T06:15:33.602564",
     "status": "completed"
    },
    "tags": []
   },
   "source": [
    "### Compute ROC curve and ROC area for each class"
   ]
  },
  {
   "cell_type": "code",
   "execution_count": 33,
   "id": "77613ccd",
   "metadata": {
    "execution": {
     "iopub.execute_input": "2025-05-14T06:15:33.680735Z",
     "iopub.status.busy": "2025-05-14T06:15:33.680555Z",
     "iopub.status.idle": "2025-05-14T06:15:33.893375Z",
     "shell.execute_reply": "2025-05-14T06:15:33.892565Z"
    },
    "papermill": {
     "duration": 0.240242,
     "end_time": "2025-05-14T06:15:33.894524",
     "exception": false,
     "start_time": "2025-05-14T06:15:33.654282",
     "status": "completed"
    },
    "tags": []
   },
   "outputs": [
    {
     "data": {
      "image/png": "[encoded data removed]",
      "text/plain": [
       "<Figure size 640x480 with 1 Axes>"
      ]
     },
     "metadata": {},
     "output_type": "display_data"
    }
   ],
   "source": [
    "fpr = {}\n",
    "tpr = {}\n",
    "roc_auc = dict()\n",
    "for i in range(num_classes):\n",
    "    fpr[i], tpr[i], _ = roc_curve(y_test[:, i], y_prob[:, i], drop_intermediate=False)\n",
    "    roc_auc[i] = auc(fpr[i], tpr[i])\n",
    "\n",
    "\n",
    "# plot the ROC curve for each class\n",
    "for i in range(num_classes):\n",
    "    plt.plot(fpr[i], tpr[i], label='Class {}: AUC={:.3f}'.format(i, roc_auc[i]))\n",
    "\n",
    "plt.xlabel('False Positive Rate')\n",
    "plt.ylabel('True Positive Rate')\n",
    "plt.legend()\n",
    "plt.show()"
   ]
  },
  {
   "cell_type": "markdown",
   "id": "f9b862ae",
   "metadata": {
    "papermill": {
     "duration": 0.026546,
     "end_time": "2025-05-14T06:15:33.948890",
     "exception": false,
     "start_time": "2025-05-14T06:15:33.922344",
     "status": "completed"
    },
    "tags": []
   },
   "source": [
    "## MCC and Kappa Score"
   ]
  },
  {
   "cell_type": "code",
   "execution_count": 34,
   "id": "3427605e",
   "metadata": {
    "execution": {
     "iopub.execute_input": "2025-05-14T06:15:34.003338Z",
     "iopub.status.busy": "2025-05-14T06:15:34.003077Z",
     "iopub.status.idle": "2025-05-14T06:15:34.011000Z",
     "shell.execute_reply": "2025-05-14T06:15:34.010210Z"
    },
    "papermill": {
     "duration": 0.036604,
     "end_time": "2025-05-14T06:15:34.012131",
     "exception": false,
     "start_time": "2025-05-14T06:15:33.975527",
     "status": "completed"
    },
    "tags": []
   },
   "outputs": [
    {
     "name": "stdout",
     "output_type": "stream",
     "text": [
      "MCC: 98.30%\n",
      "Kappa Score: 98.30%\n"
     ]
    }
   ],
   "source": [
    "from sklearn.metrics import matthews_corrcoef, cohen_kappa_score\n",
    "\n",
    "# y_true are the true labels of the test set\n",
    "# y_pred are the predicted labels of the test set\n",
    "mcc = matthews_corrcoef(y_true, y_pred)\n",
    "kappa = cohen_kappa_score(y_true, y_pred)\n",
    "print(\"MCC: {:.2f}%\".format(mcc*100))\n",
    "print(\"Kappa Score: {:.2f}%\".format(kappa*100))"
   ]
  },
  {
   "cell_type": "code",
   "execution_count": 35,
   "id": "e6d6a507",
   "metadata": {
    "execution": {
     "iopub.execute_input": "2025-05-14T06:15:34.067880Z",
     "iopub.status.busy": "2025-05-14T06:15:34.067316Z",
     "iopub.status.idle": "2025-05-14T06:15:34.253657Z",
     "shell.execute_reply": "2025-05-14T06:15:34.252860Z"
    },
    "papermill": {
     "duration": 0.215844,
     "end_time": "2025-05-14T06:15:34.255146",
     "exception": false,
     "start_time": "2025-05-14T06:15:34.039302",
     "status": "completed"
    },
    "tags": []
   },
   "outputs": [
    {
     "name": "stdout",
     "output_type": "stream",
     "text": [
      "MCC per class:\n",
      "Class 0: 99.56%\n",
      "Class 1: 99.71%\n",
      "Class 2: 97.96%\n",
      "Class 3: 99.93%\n",
      "Class 4: 96.26%\n",
      "Class 5: 94.91%\n",
      "Class 6: 99.92%\n",
      "Kappa Score per class:\n",
      "Class 0: 99.56%\n",
      "Class 1: 99.70%\n",
      "Class 2: 97.95%\n",
      "Class 3: 99.93%\n",
      "Class 4: 96.26%\n",
      "Class 5: 94.90%\n",
      "Class 6: 99.92%\n"
     ]
    }
   ],
   "source": [
    "### Individual Class Wise MCC and Kappa\n",
    "\n",
    "from sklearn.metrics import confusion_matrix, matthews_corrcoef, cohen_kappa_score\n",
    "# y_true are the true labels of the test set\n",
    "# y_pred are the predicted labels of the test set\n",
    "conf_mat = confusion_matrix(y_true, y_pred)\n",
    "mcc_per_class = {}\n",
    "kappa_per_class = {}\n",
    "\n",
    "for i in range(len(conf_mat)):\n",
    "    tp = conf_mat[i][i]\n",
    "    fp = sum(conf_mat[:, i]) - tp\n",
    "    fn = sum(conf_mat[i, :]) - tp\n",
    "    tn = sum(sum(conf_mat)) - tp - fp - fn\n",
    "\n",
    "    mcc_per_class[i] = matthews_corrcoef([1 if x==i else 0 for x in y_true], [1 if x==i else 0 for x in y_pred])\n",
    "    kappa_per_class[i] = cohen_kappa_score([1 if x==i else 0 for x in y_true], [1 if x==i else 0 for x in y_pred])\n",
    "\n",
    "print(\"MCC per class:\")\n",
    "for i, mcc in mcc_per_class.items():\n",
    "    print(\"Class {}: {:.2f}%\".format(i, mcc*100))\n",
    "\n",
    "print(\"Kappa Score per class:\")\n",
    "for i, kappa in kappa_per_class.items():\n",
    "    print(\"Class {}: {:.2f}%\".format(i, kappa*100))"
   ]
  },
  {
   "cell_type": "code",
   "execution_count": null,
   "id": "f9f48854",
   "metadata": {
    "papermill": {
     "duration": 0.026424,
     "end_time": "2025-05-14T06:15:34.310231",
     "exception": false,
     "start_time": "2025-05-14T06:15:34.283807",
     "status": "completed"
    },
    "tags": []
   },
   "outputs": [],
   "source": []
  }
 ],
 "metadata": {
  "kaggle": {
   "accelerator": "gpu",
   "dataSources": [
    {
     "datasetId": 3940397,
     "sourceId": 6855276,
     "sourceType": "datasetVersion"
    }
   ],
   "dockerImageVersionId": 31041,
   "isGpuEnabled": true,
   "isInternetEnabled": true,
   "language": "python",
   "sourceType": "notebook"
  },
  "kernelspec": {
   "display_name": "Python 3",
   "language": "python",
   "name": "python3"
  },
  "language_info": {
   "codemirror_mode": {
    "name": "ipython",
    "version": 3
   },
   "file_extension": ".py",
   "mimetype": "text/x-python",
   "name": "python",
   "nbconvert_exporter": "python",
   "pygments_lexer": "ipython3",
   "version": "3.11.11"
  },
  "papermill": {
   "default_parameters": {},
   "duration": 15484.373977,
   "end_time": "2025-05-14T06:15:38.518919",
   "environment_variables": {},
   "exception": null,
   "input_path": "__notebook__.ipynb",
   "output_path": "__notebook__.ipynb",
   "parameters": {},
   "start_time": "2025-05-14T01:57:34.144942",
   "version": "2.4.0"
  }
 },
 "nbformat": 4,
 "nbformat_minor": 5
}
